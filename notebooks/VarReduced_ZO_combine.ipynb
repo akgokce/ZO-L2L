{
 "cells": [
  {
   "cell_type": "code",
   "execution_count": 26,
   "metadata": {},
   "outputs": [],
   "source": [
    "import sys\n",
    "sys.path.append(\"..\")"
   ]
  },
  {
   "cell_type": "code",
   "execution_count": 27,
   "metadata": {},
   "outputs": [],
   "source": [
    "from argparse import Namespace\n",
    "import torch\n",
    "import nn_optimizer\n",
    "import optimizee"
   ]
  },
  {
   "cell_type": "markdown",
   "metadata": {},
   "source": [
    "### Load VarReducedZOOptimizer"
   ]
  },
  {
   "cell_type": "code",
   "execution_count": 28,
   "metadata": {},
   "outputs": [
    {
     "name": "stdout",
     "output_type": "stream",
     "text": [
      ">>>reg 0.005\n",
      "Warm start from 'output/VarReduced_ZO_attack_mnist_finite_diff/ckpt_best'. Freeze parameters.\n"
     ]
    }
   ],
   "source": [
    "VAR_REDUCED_ZOO_CKPT_PATH = \"output/VarReduced_ZO_attack_mnist_finite_diff/ckpt_best\"\n",
    "attack_model = optimizee.mnist.MnistConvModel()\n",
    "meta_model = optimizee.mnist.MnistAttack(optimizee.AttackModel(attack_model))\n",
    "args = Namespace(cuda=torch.cuda.is_available(), gpu_num=0, grad_est_q=20)\n",
    "var_reduced_zoo = nn_optimizer.zoopt.VarReducedZOOptimizer(optimizee.MetaModel(meta_model), args, ckpt_path=VAR_REDUCED_ZOO_CKPT_PATH)"
   ]
  },
  {
   "cell_type": "markdown",
   "metadata": {},
   "source": [
    "### Load VarReducedZOOptimizerProp"
   ]
  },
  {
   "cell_type": "code",
   "execution_count": 29,
   "metadata": {},
   "outputs": [
    {
     "name": "stdout",
     "output_type": "stream",
     "text": [
      ">>>reg 0.005\n",
      "Warm start from 'output/VarReduced_ZO_attack_mnist_finite_diff/ckpt_best'. Freeze parameters.\n"
     ]
    }
   ],
   "source": [
    "VAR_REDUCED_ZOO_CKPT_PATH = \"output/VarReduced_ZO_attack_mnist_finite_diff/ckpt_best\"\n",
    "attack_model = optimizee.mnist.MnistConvModel()\n",
    "meta_model = optimizee.mnist.MnistAttack(optimizee.AttackModel(attack_model))\n",
    "args = Namespace(cuda=torch.cuda.is_available(), gpu_num=0, grad_est_q=20)\n",
    "var_reduced_zoo_prop = nn_optimizer.zoopt.VarReducedZOOptimizerProp(optimizee.MetaModel(meta_model), args, ckpt_path=VAR_REDUCED_ZOO_CKPT_PATH)"
   ]
  },
  {
   "cell_type": "code",
   "execution_count": 30,
   "metadata": {},
   "outputs": [
    {
     "name": "stdout",
     "output_type": "stream",
     "text": [
      "update_rnn.weight_ih_l0 tensor([-0.1142])\n",
      "update_rnn.weight_hh_l0 tensor([ 0.2443, -0.2616,  0.5376,  0.2010, -0.1844, -0.4169,  0.1676,  0.4896,\n",
      "         0.0543,  0.1843])\n",
      "inputer.weight tensor([ 0.0587, -0.0378], grad_fn=<SelectBackward0>)\n",
      "outputer.weight tensor([-0.0266,  0.0211,  0.0048, -0.0104,  0.0166,  0.0080,  0.0333,  0.0097,\n",
      "        -0.0118, -0.0318])\n",
      "query_u_rnn.weight_ih_l0 tensor([-0.6078, -1.5378])\n",
      "query_u_rnn.weight_hh_l0 tensor([ 0.4740, -0.3074,  0.0161,  0.8775,  0.4410,  0.0784, -0.0073, -0.3157,\n",
      "         0.0107,  0.4869])\n",
      "query_u_outputer.weight tensor([ 0.7072, -0.0437,  0.2970, -0.2822, -0.4117,  0.2877,  0.3736, -0.6545,\n",
      "        -0.5758, -0.4537])\n"
     ]
    }
   ],
   "source": [
    "for name, param in var_reduced_zoo_prop.named_parameters():\n",
    "    print(name, param[0])"
   ]
  },
  {
   "cell_type": "markdown",
   "metadata": {},
   "source": [
    "### Load ZO_attack_mnist_Prop_test20 updateRNN"
   ]
  },
  {
   "cell_type": "code",
   "execution_count": 31,
   "metadata": {},
   "outputs": [
    {
     "name": "stdout",
     "output_type": "stream",
     "text": [
      "Warm start from 'output/ZO_attack_mnist_Prop_test20/ckpt_best'. Freeze parameters.\n"
     ]
    }
   ],
   "source": [
    "PROP20_CKPT_PATH = \"output/ZO_attack_mnist_Prop_test20/ckpt_best\"\n",
    "var_reduced_zoo_prop.warm_start(PROP20_CKPT_PATH)"
   ]
  },
  {
   "cell_type": "code",
   "execution_count": 32,
   "metadata": {},
   "outputs": [
    {
     "name": "stdout",
     "output_type": "stream",
     "text": [
      "update_rnn.weight_ih_l0 tensor([-0.5477])\n",
      "update_rnn.weight_hh_l0 tensor([-0.8057,  0.5088,  0.4657, -0.5674, -0.3730,  0.3694,  0.5818, -0.7213,\n",
      "         0.8310, -0.9018])\n",
      "inputer.weight tensor([-0.1940, -0.0174])\n",
      "outputer.weight tensor([ 0.0835, -0.1283, -0.1105,  0.0138, -0.0576, -0.0137, -0.2754,  0.0327,\n",
      "        -0.0117,  0.0176])\n",
      "query_u_rnn.weight_ih_l0 tensor([-0.6078, -1.5378])\n",
      "query_u_rnn.weight_hh_l0 tensor([ 0.4740, -0.3074,  0.0161,  0.8775,  0.4410,  0.0784, -0.0073, -0.3157,\n",
      "         0.0107,  0.4869])\n",
      "query_u_outputer.weight tensor([ 0.7072, -0.0437,  0.2970, -0.2822, -0.4117,  0.2877,  0.3736, -0.6545,\n",
      "        -0.5758, -0.4537])\n"
     ]
    }
   ],
   "source": [
    "for name, param in var_reduced_zoo_prop.named_parameters():\n",
    "    print(name, param[0])"
   ]
  },
  {
   "cell_type": "code",
   "execution_count": 34,
   "metadata": {},
   "outputs": [
    {
     "name": "stdout",
     "output_type": "stream",
     "text": [
      "Saving model state at epoch 20 to output/VarReduced_ZO_attack_mnist_Prop_test20/ckpt_best\n"
     ]
    }
   ],
   "source": [
    "import torch\n",
    "var_reduced_zoo_prop.save(epoch=20, outdir=\"output/VarReduced_ZO_attack_mnist_Prop_test20\", best=True)"
   ]
  },
  {
   "cell_type": "markdown",
   "metadata": {},
   "source": [
    "### Load ZO_attack_mnist_Prop_test20_scaling3_convex100 updateRNN"
   ]
  },
  {
   "cell_type": "code",
   "execution_count": 35,
   "metadata": {},
   "outputs": [
    {
     "name": "stdout",
     "output_type": "stream",
     "text": [
      "Warm start from 'output/ZO_attack_mnist_Prop_test20_scaling3_convex100/ckpt_best'. Freeze parameters.\n"
     ]
    }
   ],
   "source": [
    "PROP20_SCALING3_CONVEX100_CKPT_PATH = \"output/ZO_attack_mnist_Prop_test20_scaling3_convex100/ckpt_best\"\n",
    "var_reduced_zoo_prop.warm_start(PROP20_SCALING3_CONVEX100_CKPT_PATH)"
   ]
  },
  {
   "cell_type": "code",
   "execution_count": 36,
   "metadata": {},
   "outputs": [
    {
     "name": "stdout",
     "output_type": "stream",
     "text": [
      "update_rnn.weight_ih_l0 tensor([0.1379])\n",
      "update_rnn.weight_hh_l0 tensor([-1.1481, -0.7447,  1.0203, -0.5847,  1.0848,  1.2504,  0.7740, -0.8701,\n",
      "         1.1206, -1.1232])\n",
      "inputer.weight tensor([0.2010, 0.0501])\n",
      "outputer.weight tensor([ 0.0303,  0.0690, -0.0219,  0.0501, -0.0529, -0.0141, -0.0097,  0.0349,\n",
      "        -0.0430,  0.0104])\n",
      "query_u_rnn.weight_ih_l0 tensor([-0.6078, -1.5378])\n",
      "query_u_rnn.weight_hh_l0 tensor([ 0.4740, -0.3074,  0.0161,  0.8775,  0.4410,  0.0784, -0.0073, -0.3157,\n",
      "         0.0107,  0.4869])\n",
      "query_u_outputer.weight tensor([ 0.7072, -0.0437,  0.2970, -0.2822, -0.4117,  0.2877,  0.3736, -0.6545,\n",
      "        -0.5758, -0.4537])\n"
     ]
    }
   ],
   "source": [
    "for name, param in var_reduced_zoo_prop.named_parameters():\n",
    "    print(name, param[0])"
   ]
  },
  {
   "cell_type": "code",
   "execution_count": 37,
   "metadata": {},
   "outputs": [
    {
     "name": "stdout",
     "output_type": "stream",
     "text": [
      "Saving model state at epoch 20 to output/VarReduced_ZO_attack_mnist_Prop_test20_scaling3_convex100/ckpt_best\n"
     ]
    }
   ],
   "source": [
    "import torch\n",
    "var_reduced_zoo_prop.save(epoch=20, outdir=\"output/VarReduced_ZO_attack_mnist_Prop_test20_scaling3_convex100\", best=True)"
   ]
  },
  {
   "cell_type": "code",
   "execution_count": 38,
   "metadata": {},
   "outputs": [
    {
     "name": "stdout",
     "output_type": "stream",
     "text": [
      "update_rnn.weight_ih_l0 tensor([-0.1142])\n",
      "update_rnn.weight_hh_l0 tensor([ 0.2443, -0.2616,  0.5376,  0.2010, -0.1844, -0.4169,  0.1676,  0.4896,\n",
      "         0.0543,  0.1843])\n",
      "outputer.weight tensor([-0.0266,  0.0211,  0.0048, -0.0104,  0.0166,  0.0080,  0.0333,  0.0097,\n",
      "        -0.0118, -0.0318])\n",
      "query_u_rnn.weight_ih_l0 tensor([-0.6078, -1.5378])\n",
      "query_u_rnn.weight_hh_l0 tensor([ 0.4740, -0.3074,  0.0161,  0.8775,  0.4410,  0.0784, -0.0073, -0.3157,\n",
      "         0.0107,  0.4869])\n",
      "query_u_outputer.weight tensor([ 0.7072, -0.0437,  0.2970, -0.2822, -0.4117,  0.2877,  0.3736, -0.6545,\n",
      "        -0.5758, -0.4537])\n"
     ]
    }
   ],
   "source": [
    "for name, param in var_reduced_zoo.named_parameters():\n",
    "    print(name, param[0])"
   ]
  },
  {
   "cell_type": "markdown",
   "metadata": {},
   "source": [
    "### Load ZO_attack_mnist_test20_convex100 updateRNN"
   ]
  },
  {
   "cell_type": "code",
   "execution_count": 39,
   "metadata": {},
   "outputs": [
    {
     "name": "stdout",
     "output_type": "stream",
     "text": [
      "Warm start from 'output/ZO_attack_mnist_test20_convex100/ckpt_best'. Freeze parameters.\n"
     ]
    }
   ],
   "source": [
    "CONVEX100_CKPT_PATH = \"output/ZO_attack_mnist_test20_convex100/ckpt_best\"\n",
    "var_reduced_zoo.warm_start(CONVEX100_CKPT_PATH)"
   ]
  },
  {
   "cell_type": "code",
   "execution_count": 40,
   "metadata": {},
   "outputs": [
    {
     "name": "stdout",
     "output_type": "stream",
     "text": [
      "update_rnn.weight_ih_l0 tensor([-0.1253])\n",
      "update_rnn.weight_hh_l0 tensor([ 0.4529, -0.8729, -0.2839, -0.5160,  0.1247, -0.0038,  0.1785, -0.0432,\n",
      "         0.2949,  0.6636])\n",
      "outputer.weight tensor([ 0.0316,  0.0199, -0.0470,  0.0516, -0.0134,  0.0140, -0.0030, -0.0280,\n",
      "        -0.0360,  0.0529])\n",
      "query_u_rnn.weight_ih_l0 tensor([-0.6078, -1.5378])\n",
      "query_u_rnn.weight_hh_l0 tensor([ 0.4740, -0.3074,  0.0161,  0.8775,  0.4410,  0.0784, -0.0073, -0.3157,\n",
      "         0.0107,  0.4869])\n",
      "query_u_outputer.weight tensor([ 0.7072, -0.0437,  0.2970, -0.2822, -0.4117,  0.2877,  0.3736, -0.6545,\n",
      "        -0.5758, -0.4537])\n"
     ]
    }
   ],
   "source": [
    "for name, param in var_reduced_zoo.named_parameters():\n",
    "    print(name, param[0])"
   ]
  },
  {
   "cell_type": "code",
   "execution_count": 41,
   "metadata": {},
   "outputs": [
    {
     "name": "stdout",
     "output_type": "stream",
     "text": [
      "Saving model state at epoch 20 to output/VarReduced_ZO_attack_mnist_test20_convex100/ckpt_best\n"
     ]
    }
   ],
   "source": [
    "import torch\n",
    "var_reduced_zoo.save(epoch=20, outdir=\"output/VarReduced_ZO_attack_mnist_test20_convex100\", best=True)"
   ]
  },
  {
   "cell_type": "markdown",
   "metadata": {},
   "source": [
    "### Load ZO_attack_mnist_test20_scaling3 updateRNN"
   ]
  },
  {
   "cell_type": "code",
   "execution_count": 42,
   "metadata": {},
   "outputs": [
    {
     "name": "stdout",
     "output_type": "stream",
     "text": [
      "Warm start from 'output/ZO_attack_mnist_test20_scaling3/ckpt_best'. Freeze parameters.\n"
     ]
    }
   ],
   "source": [
    "SCALING3_CKPT_PATH = \"output/ZO_attack_mnist_test20_scaling3/ckpt_best\"\n",
    "var_reduced_zoo.warm_start(SCALING3_CKPT_PATH)"
   ]
  },
  {
   "cell_type": "code",
   "execution_count": 43,
   "metadata": {},
   "outputs": [
    {
     "name": "stdout",
     "output_type": "stream",
     "text": [
      "update_rnn.weight_ih_l0 tensor([-0.0969])\n",
      "update_rnn.weight_hh_l0 tensor([-0.0272,  0.0601, -0.5364,  0.2422,  0.3890,  0.6098, -0.0093,  0.2038,\n",
      "        -0.1435, -0.1303])\n",
      "outputer.weight tensor([-0.0297,  0.0577, -0.0218, -0.0152,  0.0267, -0.0144, -0.0164, -0.0068,\n",
      "        -0.0042, -0.0012])\n",
      "query_u_rnn.weight_ih_l0 tensor([-0.6078, -1.5378])\n",
      "query_u_rnn.weight_hh_l0 tensor([ 0.4740, -0.3074,  0.0161,  0.8775,  0.4410,  0.0784, -0.0073, -0.3157,\n",
      "         0.0107,  0.4869])\n",
      "query_u_outputer.weight tensor([ 0.7072, -0.0437,  0.2970, -0.2822, -0.4117,  0.2877,  0.3736, -0.6545,\n",
      "        -0.5758, -0.4537])\n"
     ]
    }
   ],
   "source": [
    "for name, param in var_reduced_zoo.named_parameters():\n",
    "    print(name, param[0])"
   ]
  },
  {
   "cell_type": "code",
   "execution_count": 44,
   "metadata": {},
   "outputs": [
    {
     "name": "stdout",
     "output_type": "stream",
     "text": [
      "Saving model state at epoch 20 to output/VarReduced_ZO_attack_mnist_test20_scaling3/ckpt_best\n"
     ]
    }
   ],
   "source": [
    "import torch\n",
    "var_reduced_zoo.save(epoch=20, outdir=\"output/VarReduced_ZO_attack_mnist_test20_scaling3\", best=True)"
   ]
  },
  {
   "cell_type": "markdown",
   "metadata": {},
   "source": [
    "### Load ZO_attack_mnist_test20_scaling3_convex100 updateRNN"
   ]
  },
  {
   "cell_type": "code",
   "execution_count": 45,
   "metadata": {},
   "outputs": [
    {
     "name": "stdout",
     "output_type": "stream",
     "text": [
      "Warm start from 'output/ZO_attack_mnist_test20_scaling3_convex100/ckpt_best'. Freeze parameters.\n"
     ]
    }
   ],
   "source": [
    "SCALING3_CONVEX100_CKPT_PATH = \"output/ZO_attack_mnist_test20_scaling3_convex100/ckpt_best\"\n",
    "var_reduced_zoo.warm_start(SCALING3_CONVEX100_CKPT_PATH)"
   ]
  },
  {
   "cell_type": "code",
   "execution_count": 46,
   "metadata": {},
   "outputs": [
    {
     "name": "stdout",
     "output_type": "stream",
     "text": [
      "update_rnn.weight_ih_l0 tensor([0.0264])\n",
      "update_rnn.weight_hh_l0 tensor([ 0.4175,  0.3080,  0.7501, -0.1289, -0.0564,  0.3926, -0.2285, -0.0131,\n",
      "        -0.2157,  0.4123])\n",
      "outputer.weight tensor([-0.0317,  0.0066,  0.0387, -0.0443, -0.0317,  0.0407,  0.0115,  0.0074,\n",
      "        -0.0735,  0.0342])\n",
      "query_u_rnn.weight_ih_l0 tensor([-0.6078, -1.5378])\n",
      "query_u_rnn.weight_hh_l0 tensor([ 0.4740, -0.3074,  0.0161,  0.8775,  0.4410,  0.0784, -0.0073, -0.3157,\n",
      "         0.0107,  0.4869])\n",
      "query_u_outputer.weight tensor([ 0.7072, -0.0437,  0.2970, -0.2822, -0.4117,  0.2877,  0.3736, -0.6545,\n",
      "        -0.5758, -0.4537])\n"
     ]
    }
   ],
   "source": [
    "for name, param in var_reduced_zoo.named_parameters():\n",
    "    print(name, param[0])"
   ]
  },
  {
   "cell_type": "code",
   "execution_count": 47,
   "metadata": {},
   "outputs": [
    {
     "name": "stdout",
     "output_type": "stream",
     "text": [
      "Saving model state at epoch 20 to output/VarReduced_ZO_attack_mnist_test20_scaling3_convex100/ckpt_best\n"
     ]
    }
   ],
   "source": [
    "import torch\n",
    "var_reduced_zoo.save(epoch=20, outdir=\"output/VarReduced_ZO_attack_mnist_test20_scaling3_convex100\", best=True)"
   ]
  }
 ],
 "metadata": {
  "kernelspec": {
   "display_name": "Python 3.8.13 ('optml')",
   "language": "python",
   "name": "python3"
  },
  "language_info": {
   "codemirror_mode": {
    "name": "ipython",
    "version": 3
   },
   "file_extension": ".py",
   "mimetype": "text/x-python",
   "name": "python",
   "nbconvert_exporter": "python",
   "pygments_lexer": "ipython3",
   "version": "3.8.13"
  },
  "orig_nbformat": 4,
  "vscode": {
   "interpreter": {
    "hash": "53afd611a3fb486fc0312aa0f4ddf1e0dde351c9bdd769484e717ef8fde001c3"
   }
  }
 },
 "nbformat": 4,
 "nbformat_minor": 2
}
